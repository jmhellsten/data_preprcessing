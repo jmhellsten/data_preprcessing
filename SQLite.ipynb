{
 "cells": [
  {
   "cell_type": "markdown",
   "metadata": {},
   "source": [
    "# SQLite"
   ]
  },
  {
   "cell_type": "markdown",
   "metadata": {},
   "source": [
    "### Add the necessary libraries for SQLite3 and make a database named `test.db`."
   ]
  },
  {
   "cell_type": "code",
   "execution_count": 1,
   "metadata": {},
   "outputs": [],
   "source": [
    "import sqlite3\n",
    "import pandas as pd\n",
    "connection = sqlite3.connect(\"test.db\")\n",
    "cursor = connection.cursor()"
   ]
  },
  {
   "cell_type": "markdown",
   "metadata": {},
   "source": [
    "### Create a connection to the database."
   ]
  },
  {
   "cell_type": "code",
   "execution_count": 2,
   "metadata": {},
   "outputs": [],
   "source": [
    "connection = sqlite3.connect(\"test.db\")\n",
    "cursor = connection.cursor()"
   ]
  },
  {
   "cell_type": "markdown",
   "metadata": {},
   "source": [
    "### Make the following table in the database, named `people`:\n",
    "    \n",
    "| name | age | shoe_size |\n",
    "| ------------- |-------------| -----|\n",
    "| Prank | 88 | 47 |\n",
    "| Matt | 34 | 39 |\n",
    "| Ilona | 41 | 36 |\n",
    "| Sonja | 32 | 37 |\n",
    "\n"
   ]
  },
  {
   "cell_type": "code",
   "execution_count": 3,
   "metadata": {},
   "outputs": [],
   "source": [
    "cursor.execute('''\n",
    "    CREATE TABLE IF NOT EXISTS people (\n",
    "        name TEXT,\n",
    "        age INTEGER,\n",
    "        shoe_size INTEGER\n",
    "    )\n",
    "''')\n",
    "\n",
    "people_data = [\n",
    "    ('Prank', 88, 47),\n",
    "    ('Matt', 34, 39),\n",
    "    ('Ilona', 41, 36),\n",
    "    ('Sonja', 32, 37)\n",
    "]\n",
    "\n",
    "cursor.executemany('INSERT INTO people (name, age, shoe_size) VALUES (?, ?, ?)', people_data)\n",
    "connection.commit()"
   ]
  },
  {
   "cell_type": "markdown",
   "metadata": {},
   "source": [
    "### When the Table has been created, convert the table to the Pandas DataFrame object and add the column `hat_size' to it, then fill that column with the values ​​you choose."
   ]
  },
  {
   "cell_type": "code",
   "execution_count": 4,
   "metadata": {},
   "outputs": [
    {
     "name": "stdout",
     "output_type": "stream",
     "text": [
      "     name  age  shoe_size  hat_size\n",
      "0   Prank   88         47        55\n",
      "1    Matt   34         39        55\n",
      "2   Ilona   41         36        55\n",
      "3   Sonja   32         37        55\n",
      "4   Prank   88         47        55\n",
      "5    Matt   34         39        55\n",
      "6   Ilona   41         36        55\n",
      "7   Sonja   32         37        55\n",
      "8   Prank   88         47        55\n",
      "9    Matt   34         39        55\n",
      "10  Ilona   41         36        55\n",
      "11  Sonja   32         37        55\n",
      "12  Prank   88         47        55\n",
      "13   Matt   34         39        55\n",
      "14  Ilona   41         36        55\n",
      "15  Sonja   32         37        55\n",
      "16  Prank   88         47        55\n",
      "17   Matt   34         39        55\n",
      "18  Ilona   41         36        55\n",
      "19  Sonja   32         37        55\n"
     ]
    }
   ],
   "source": [
    "df = pd.read_sql_query('SELECT * FROM people', connection)\n",
    "\n",
    "df['hat_size'] = [55] * len(df)\n",
    "\n",
    "print(df)"
   ]
  },
  {
   "cell_type": "markdown",
   "metadata": {},
   "source": [
    "### Make a copy of the DataFrame object with the name `person_table_copy` and add a row to it with the values ​you choose. Now save this modified dataframe object in the database as `person_table_copy` (will be created next to the previous table)."
   ]
  },
  {
   "cell_type": "code",
   "execution_count": 5,
   "metadata": {},
   "outputs": [
    {
     "name": "stdout",
     "output_type": "stream",
     "text": [
      "     name  age  shoe_size  hat_size\n",
      "0   Prank   88         47        55\n",
      "1    Matt   34         39        55\n",
      "2   Ilona   41         36        55\n",
      "3   Sonja   32         37        55\n",
      "4   Prank   88         47        55\n",
      "5    Matt   34         39        55\n",
      "6   Ilona   41         36        55\n",
      "7   Sonja   32         37        55\n",
      "8   Prank   88         47        55\n",
      "9    Matt   34         39        55\n",
      "10  Ilona   41         36        55\n",
      "11  Sonja   32         37        55\n",
      "12  Prank   88         47        55\n",
      "13   Matt   34         39        55\n",
      "14  Ilona   41         36        55\n",
      "15  Sonja   32         37        55\n",
      "16  Prank   88         47        55\n",
      "17   Matt   34         39        55\n",
      "18  Ilona   41         36        55\n",
      "19  Sonja   32         37        55\n",
      "20   Alex   29         42        57\n"
     ]
    }
   ],
   "source": [
    "person_table_copy = df.copy()\n",
    "new_person = pd.DataFrame([{\n",
    "    'name': 'Alex',\n",
    "    'age': 29,\n",
    "    'shoe_size': 42,\n",
    "    'hat_size': 57\n",
    "}])\n",
    "\n",
    "person_table_copy = pd.concat([person_table_copy, new_person], ignore_index=True)\n",
    "person_table_copy.to_sql('person_table_copy', connection, if_exists='replace', index=False)\n",
    "\n",
    "print(person_table_copy)"
   ]
  },
  {
   "cell_type": "markdown",
   "metadata": {},
   "source": [
    "### Finally, save the database changes and close the connection."
   ]
  },
  {
   "cell_type": "code",
   "execution_count": 6,
   "metadata": {},
   "outputs": [],
   "source": [
    "connection.commit()\n",
    "connection.close()"
   ]
  }
 ],
 "metadata": {
  "kernelspec": {
   "display_name": "Python 3 (ipykernel)",
   "language": "python",
   "name": "python3"
  },
  "language_info": {
   "codemirror_mode": {
    "name": "ipython",
    "version": 3
   },
   "file_extension": ".py",
   "mimetype": "text/x-python",
   "name": "python",
   "nbconvert_exporter": "python",
   "pygments_lexer": "ipython3",
   "version": "3.13.2"
  }
 },
 "nbformat": 4,
 "nbformat_minor": 4
}
