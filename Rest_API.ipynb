{
 "cells": [
  {
   "cell_type": "markdown",
   "metadata": {},
   "source": [
    "# Rest API"
   ]
  },
  {
   "cell_type": "markdown",
   "metadata": {},
   "source": [
    "In the first task section, an interface about the services of the capital region is used. This interface is also used in the examples.\n",
    "\n",
    "Information about the service can be found at: https://www.hel.fi/palvelukarttaws/restpages/palvelurekisteri_en.html\n",
    "\n",
    "---\n",
    "\n",
    "In the second task section, Digitraffic's rest interface is used, to which the skills are to be applied.\n",
    "\n",
    "Information about the service can be found at: https://rata.digitraffic.fi/swagger/"
   ]
  },
  {
   "cell_type": "markdown",
   "metadata": {},
   "source": [
    "## Tasks of the interface of the capital region's services"
   ]
  },
  {
   "cell_type": "markdown",
   "metadata": {},
   "source": [
    "Url for the interface: http://www.hel.fi/palvelukarttaws/rest/vpalvelurekisteri"
   ]
  },
  {
   "cell_type": "markdown",
   "metadata": {},
   "source": [
    "### Add the libraries to be used and create the interface url with `/description/`."
   ]
  },
  {
   "cell_type": "code",
   "execution_count": 1,
   "metadata": {},
   "outputs": [],
   "source": [
    "import requests\n",
    "import json\n",
    "url = \"https://www.hel.fi/palvelukarttaws/rest/vpalvelurekisteri/description/\""
   ]
  },
  {
   "cell_type": "markdown",
   "metadata": {},
   "source": [
    "### Make a get request to the address and make sure that the search is successful and the response code is 200."
   ]
  },
  {
   "cell_type": "code",
   "execution_count": 2,
   "metadata": {},
   "outputs": [
    {
     "data": {
      "text/plain": [
       "200"
      ]
     },
     "execution_count": 2,
     "metadata": {},
     "output_type": "execute_result"
    }
   ],
   "source": [
    "req = requests.get(url=url)\n",
    "req.status_code"
   ]
  },
  {
   "cell_type": "markdown",
   "metadata": {},
   "source": [
    "### Save the answer to the variable as a list whose elements are in json format."
   ]
  },
  {
   "cell_type": "code",
   "execution_count": 3,
   "metadata": {},
   "outputs": [],
   "source": [
    "data = req.json()"
   ]
  },
  {
   "cell_type": "markdown",
   "metadata": {},
   "source": [
    "### From the list object, select the latest json record whose `service_id` key value is 10473 (10473 has three values) and place the `id` key value of that json record in the variable."
   ]
  },
  {
   "cell_type": "code",
   "execution_count": 4,
   "metadata": {},
   "outputs": [],
   "source": [
    "filtered_data = [item for item in data if item['service_id'] == 10473]\n",
    "latest_record = max(filtered_data, key=lambda x: x['id'])\n",
    "record_id = latest_record['id']"
   ]
  },
  {
   "cell_type": "markdown",
   "metadata": {},
   "source": [
    "### Make a new get request to the same address as before (also the endpoint remains the same), but take into account the variable selected in the previous point (the variable that contains the value of `id`) in the request."
   ]
  },
  {
   "cell_type": "code",
   "execution_count": 5,
   "metadata": {},
   "outputs": [],
   "source": [
    "url_with_id = f\"{url}{record_id}\"\n",
    "req_2 = requests.get(url=url_with_id)"
   ]
  },
  {
   "cell_type": "markdown",
   "metadata": {},
   "source": [
    "### Print the value of the `title` key from the response message."
   ]
  },
  {
   "cell_type": "code",
   "execution_count": 6,
   "metadata": {},
   "outputs": [
    {
     "name": "stdout",
     "output_type": "stream",
     "text": [
      "Itämerihaaste\n"
     ]
    }
   ],
   "source": [
    "data_2 = req_2.json()\n",
    "print(data_2['title'])"
   ]
  },
  {
   "cell_type": "markdown",
   "metadata": {},
   "source": [
    "---"
   ]
  },
  {
   "cell_type": "markdown",
   "metadata": {},
   "source": [
    "## Tasks of the Digitraffic interface"
   ]
  },
  {
   "cell_type": "markdown",
   "metadata": {},
   "source": [
    "### Search the Digitraffic interface according to the service instructions for the train from 06.06.2018 with the trainnumber of 1."
   ]
  },
  {
   "cell_type": "code",
   "execution_count": 7,
   "metadata": {},
   "outputs": [],
   "source": [
    "digitraffic_url = \"https://rata.digitraffic.fi/api/v1/trains/2018-06-06/1\"\n",
    "train_req = requests.get(url=digitraffic_url)\n",
    "train_data = train_req.json()"
   ]
  },
  {
   "cell_type": "markdown",
   "metadata": {},
   "source": [
    "### Create a DataFrame from the result of the get request of the previous task (from the entire data of train 1 at date 06.06.2018), if even one value of the `scheduledTime` key is before the timestamp '2018-06-06T06:00:00.000Z'."
   ]
  },
  {
   "cell_type": "code",
   "execution_count": 8,
   "metadata": {},
   "outputs": [],
   "source": [
    "import pandas as pd\n",
    "if any(row['scheduledTime'] < '2018-06-06T06:00:00.000Z' for row in train_data[0]['timeTableRows']):\n",
    "    df = pd.DataFrame(train_data)"
   ]
  },
  {
   "cell_type": "markdown",
   "metadata": {},
   "source": [
    "### Print the only row from the generated DataFrame object, if one is created."
   ]
  },
  {
   "cell_type": "code",
   "execution_count": 9,
   "metadata": {},
   "outputs": [
    {
     "name": "stdout",
     "output_type": "stream",
     "text": [
      "   trainNumber departureDate  operatorUICCode operatorShortCode trainType  \\\n",
      "0            1    2018-06-06               10                vr        IC   \n",
      "\n",
      "   trainCategory commuterLineID  runningCurrently  cancelled       version  \\\n",
      "0  Long-distance                            False      False  270528660210   \n",
      "\n",
      "  timetableType   timetableAcceptanceDate  \\\n",
      "0       REGULAR  2018-03-05T10:02:10.000Z   \n",
      "\n",
      "                                       timeTableRows  \n",
      "0  [{'stationShortCode': 'HKI', 'stationUICCode':...  \n"
     ]
    }
   ],
   "source": [
    "print(df)"
   ]
  }
 ],
 "metadata": {
  "kernelspec": {
   "display_name": "Python 3 (ipykernel)",
   "language": "python",
   "name": "python3"
  },
  "language_info": {
   "codemirror_mode": {
    "name": "ipython",
    "version": 3
   },
   "file_extension": ".py",
   "mimetype": "text/x-python",
   "name": "python",
   "nbconvert_exporter": "python",
   "pygments_lexer": "ipython3",
   "version": "3.13.2"
  }
 },
 "nbformat": 4,
 "nbformat_minor": 4
}
